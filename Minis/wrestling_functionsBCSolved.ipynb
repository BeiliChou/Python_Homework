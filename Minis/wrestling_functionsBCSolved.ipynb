{
 "cells": [
  {
   "cell_type": "code",
   "execution_count": 9,
   "metadata": {},
   "outputs": [],
   "source": [
    "import os\n",
    "import csv"
   ]
  },
  {
   "cell_type": "code",
   "execution_count": 10,
   "metadata": {},
   "outputs": [],
   "source": [
    "wrestling_csv = os.path.join('..', 'Resources', 'WWE-Data-2016.csv')"
   ]
  },
  {
   "cell_type": "code",
   "execution_count": 11,
   "metadata": {},
   "outputs": [],
   "source": [
    "def print_percentages(wrestler_data):\n",
    "    name = str(wrestler_data[0])\n",
    "    wins = int(wrestler_data[1])\n",
    "    losses = int(wrestler_data[2])\n",
    "    draws = int(wrestler_data[3])\n",
    "\n",
    "    total_matches = wins + losses + draws\n",
    "\n",
    "    win_percent = (wins / total_matches) * 100\n",
    "\n",
    "    loss_percent = (losses / total_matches) * 100\n",
    "\n",
    "    draw_percent = (draws / total_matches) * 100\n",
    "\n",
    "    if loss_percent > 50:\n",
    "        type_of_wrestler = \"Jobber\"\n",
    "    else:\n",
    "        type_of_wrestler = \"Superstar\"\n",
    "\n",
    "    print(f\"Stats for {name}\")\n",
    "    print(f\"WIN PERCENT: {win_percent}\")\n",
    "    print(f\"LOSS PERCENT: {loss_percent}\")\n",
    "    print(f\"DRAW PERCENT: {draw_percent}\")\n",
    "    print(f\"{name} is a {type_of_wrestler}\")"
   ]
  },
  {
   "cell_type": "code",
   "execution_count": 12,
   "metadata": {},
   "outputs": [
    {
     "name": "stdout",
     "output_type": "stream",
     "text": [
      "What wrestler do you want to look for? Dean Ambrose\n",
      "Stats for Dean Ambrose\n",
      "WIN PERCENT: 65.19607843137256\n",
      "LOSS PERCENT: 32.84313725490196\n",
      "DRAW PERCENT: 1.9607843137254901\n",
      "Dean Ambrose is a Superstar\n"
     ]
    }
   ],
   "source": [
    "with open(wrestling_csv, 'r') as csvfile:\n",
    "\n",
    "    csvreader = csv.reader(csvfile, delimiter=',')\n",
    "\n",
    "    header = next(csvreader)\n",
    "\n",
    "    name_to_check = input(\"What wrestler do you want to look for? \")\n",
    "\n",
    "    for row in csvreader:\n",
    "\n",
    "        if name_to_check == row[0]:\n",
    "            print_percentages(row)"
   ]
  }
 ],
 "metadata": {
  "kernelspec": {
   "display_name": "Python 3",
   "language": "python",
   "name": "python3"
  },
  "language_info": {
   "codemirror_mode": {
    "name": "ipython",
    "version": 3
   },
   "file_extension": ".py",
   "mimetype": "text/x-python",
   "name": "python",
   "nbconvert_exporter": "python",
   "pygments_lexer": "ipython3",
   "version": "3.8.3"
  }
 },
 "nbformat": 4,
 "nbformat_minor": 2
}
